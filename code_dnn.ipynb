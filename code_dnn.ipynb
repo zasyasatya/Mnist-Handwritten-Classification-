{
 "cells": [
  {
   "cell_type": "code",
   "execution_count": 1,
   "metadata": {},
   "outputs": [],
   "source": [
    "# import all dependecies\n",
    "import os\n",
    "import tensorflow as tf \n",
    "from tensorflow import keras\n",
    "from tensorflow.keras import layers, optimizers, datasets\n",
    "from matplotlib import pyplot as plt \n",
    "import numpy as np "
   ]
  },
  {
   "cell_type": "code",
   "execution_count": 2,
   "metadata": {},
   "outputs": [
    {
     "name": "stdout",
     "output_type": "stream",
     "text": [
      "5\n",
      "(60000, 28, 28) (60000,)\n",
      "(10000, 28, 28) (10000,)\n"
     ]
    }
   ],
   "source": [
    "# Dataset acquisition\n",
    "(x_train_raw, y_train_raw), (x_test_raw, y_test_raw) = datasets.mnist.load_data()\n",
    "\n",
    "print(y_train_raw[0])\n",
    "print(x_train_raw.shape, y_train_raw.shape)\n",
    "print(x_test_raw.shape, y_test_raw.shape)"
   ]
  },
  {
   "cell_type": "code",
   "execution_count": 3,
   "metadata": {},
   "outputs": [
    {
     "name": "stdout",
     "output_type": "stream",
     "text": [
      "[0. 0. 0. 0. 0. 1. 0. 0. 0. 0.]\n"
     ]
    }
   ],
   "source": [
    "'''\n",
    "    Convert label into one hot code\n",
    "    Goal --> to make probabilities calculation run indepently\n",
    "'''\n",
    "\n",
    "num_class = 10\n",
    "\n",
    "y_train = keras.utils.to_categorical(y_train_raw, num_class)\n",
    "y_test = keras.utils.to_categorical(y_test_raw, num_class)\n",
    "\n",
    "# print the first data label\n",
    "print(y_train[0])"
   ]
  },
  {
   "cell_type": "code",
   "execution_count": 4,
   "metadata": {},
   "outputs": [
    {
     "data": {
      "image/png": "[encoded data removed]",
      "text/plain": [
       "<Figure size 640x480 with 9 Axes>"
      ]
     },
     "metadata": {},
     "output_type": "display_data"
    }
   ],
   "source": [
    "# dataset visualization using matplotlib\n",
    "\n",
    "plt.figure()\n",
    "for i in range(9):\n",
    "    plt.subplot(3, 3, i + 1)\n",
    "    plt.imshow(x_train_raw[i])\n",
    "    plt.axis(\"off\")\n",
    "plt.show()"
   ]
  },
  {
   "cell_type": "code",
   "execution_count": 5,
   "metadata": {},
   "outputs": [],
   "source": [
    "# reshape image matrix into 1 vector\n",
    "x_train = x_train_raw.reshape(60000, 784)\n",
    "x_test = x_test_raw.reshape(10000, 784)"
   ]
  },
  {
   "cell_type": "code",
   "execution_count": 6,
   "metadata": {},
   "outputs": [],
   "source": [
    "# normalize image pixel into range 0 - 1\n",
    "x_train = x_train.astype(\"float32\")/255\n",
    "x_test = x_test.astype(\"float32\")/255"
   ]
  },
  {
   "cell_type": "code",
   "execution_count": 7,
   "metadata": {},
   "outputs": [
    {
     "name": "stdout",
     "output_type": "stream",
     "text": [
      "Model: \"sequential\"\n",
      "_________________________________________________________________\n",
      " Layer (type)                Output Shape              Param #   \n",
      "=================================================================\n",
      " dense (Dense)               (None, 512)               401920    \n",
      "                                                                 \n",
      " dense_1 (Dense)             (None, 256)               131328    \n",
      "                                                                 \n",
      " dense_2 (Dense)             (None, 124)               31868     \n",
      "                                                                 \n",
      " dense_3 (Dense)             (None, 10)                1250      \n",
      "                                                                 \n",
      "=================================================================\n",
      "Total params: 566,366\n",
      "Trainable params: 566,366\n",
      "Non-trainable params: 0\n",
      "_________________________________________________________________\n"
     ]
    }
   ],
   "source": [
    "# build DNN Model\n",
    "model = keras.Sequential([\n",
    "    layers.Dense(512, activation=\"relu\", input_dim = 784), # input layer\n",
    "    layers.Dense(256, activation=\"relu\"), # hidden layer\n",
    "    layers.Dense(124, activation=\"relu\"), # hidden layer\n",
    "    layers.Dense(num_class, activation=\"softmax\") # output layer\n",
    "])\n",
    "\n",
    "model.summary()"
   ]
  },
  {
   "cell_type": "code",
   "execution_count": 8,
   "metadata": {},
   "outputs": [],
   "source": [
    "# Compile The Model\n",
    "model.compile(\n",
    "    loss = keras.losses.categorical_crossentropy,\n",
    "    optimizer = optimizers.Adam(0.001),\n",
    "    metrics = [\"accuracy\"]\n",
    ")"
   ]
  },
  {
   "cell_type": "code",
   "execution_count": 9,
   "metadata": {},
   "outputs": [
    {
     "name": "stdout",
     "output_type": "stream",
     "text": [
      "Epoch 1/10\n",
      "469/469 [==============================] - 3s 3ms/step - loss: 0.2247 - accuracy: 0.9343\n",
      "Epoch 2/10\n",
      "469/469 [==============================] - 1s 3ms/step - loss: 0.0839 - accuracy: 0.9734\n",
      "Epoch 3/10\n",
      "469/469 [==============================] - 1s 3ms/step - loss: 0.0574 - accuracy: 0.9814\n",
      "Epoch 4/10\n",
      "469/469 [==============================] - 1s 3ms/step - loss: 0.0378 - accuracy: 0.9879\n",
      "Epoch 5/10\n",
      "469/469 [==============================] - 1s 3ms/step - loss: 0.0313 - accuracy: 0.9902\n",
      "Epoch 6/10\n",
      "469/469 [==============================] - 2s 3ms/step - loss: 0.0236 - accuracy: 0.9927\n",
      "Epoch 7/10\n",
      "469/469 [==============================] - 1s 3ms/step - loss: 0.0220 - accuracy: 0.9929\n",
      "Epoch 8/10\n",
      "469/469 [==============================] - 1s 3ms/step - loss: 0.0215 - accuracy: 0.9928\n",
      "Epoch 9/10\n",
      "469/469 [==============================] - 1s 3ms/step - loss: 0.0154 - accuracy: 0.9952\n",
      "Epoch 10/10\n",
      "469/469 [==============================] - 1s 3ms/step - loss: 0.0143 - accuracy: 0.9951\n"
     ]
    },
    {
     "data": {
      "text/plain": [
       "<keras.callbacks.History at 0x2653852d700>"
      ]
     },
     "execution_count": 9,
     "metadata": {},
     "output_type": "execute_result"
    }
   ],
   "source": [
    "# Fit the model\n",
    "model.fit(\n",
    "    x_train,\n",
    "    y_train,\n",
    "    batch_size = 128,\n",
    "    epochs = 10,\n",
    "    verbose = 1\n",
    ")"
   ]
  },
  {
   "cell_type": "code",
   "execution_count": 10,
   "metadata": {},
   "outputs": [
    {
     "name": "stdout",
     "output_type": "stream",
     "text": [
      "313/313 [==============================] - 1s 2ms/step - loss: 0.0717 - accuracy: 0.9826\n",
      "Test loss:  0.07173199951648712\n",
      "Test accuracy:  0.9825999736785889\n"
     ]
    }
   ],
   "source": [
    "# Evaluate model\n",
    "score = model.evaluate(x_test, y_test, verbose = 1)\n",
    "print(\"Test loss: \", score[0])\n",
    "print(\"Test accuracy: \", score[1])"
   ]
  },
  {
   "cell_type": "code",
   "execution_count": 11,
   "metadata": {},
   "outputs": [],
   "source": [
    "# Save Weight\n",
    "model.save(\"final_DNN.h5\")"
   ]
  },
  {
   "cell_type": "markdown",
   "metadata": {},
   "source": [
    "## Build CNN Model"
   ]
  },
  {
   "cell_type": "code",
   "execution_count": 12,
   "metadata": {},
   "outputs": [],
   "source": [
    "# Import all dependencies\n",
    "import tensorflow as tf\n",
    "from tensorflow.keras.layers import Conv2D, MaxPooling2D, Dropout, Dense, Flatten\n",
    "import numpy as np "
   ]
  },
  {
   "cell_type": "code",
   "execution_count": 13,
   "metadata": {},
   "outputs": [],
   "source": [
    "# Build Model Layers\n",
    "model = tf.keras.Sequential()\n",
    "\n",
    "# First Block Layer\n",
    "model.add(Conv2D(\n",
    "    filters = 32,\n",
    "    kernel_size = 5,\n",
    "    strides = (1, 1),\n",
    "    padding = \"same\",\n",
    "    activation = \"relu\", \n",
    "    input_shape = (28, 28, 1)\n",
    "))\n",
    "\n",
    "model.add(MaxPooling2D(\n",
    "    pool_size = (2, 2),\n",
    "    strides = (2, 2),\n",
    "    padding = \"valid\"\n",
    "))\n",
    "\n",
    "# Second Block Layer\n",
    "model.add(Conv2D(\n",
    "    filters = 64,\n",
    "    kernel_size = 3,\n",
    "    strides = (1, 1),\n",
    "    padding = \"same\",\n",
    "    activation = \"relu\"\n",
    "))\n",
    "\n",
    "model.add(MaxPooling2D(\n",
    "    pool_size = (2, 2),\n",
    "    strides = (2, 2),\n",
    "    padding = \"valid\"\n",
    "))\n",
    "\n",
    "# Add Dropout Regularization \n",
    "model.add(Dropout(0.25))\n",
    "\n",
    "# Flatten \n",
    "model.add(Flatten())\n",
    "\n",
    "# Add fully connected layer\n",
    "model.add(Dense(\n",
    "    units = 128,\n",
    "    activation = \"relu\"\n",
    "))\n",
    "\n",
    "model.add(Dropout(0.5))\n",
    "\n",
    "model.add(Dense(\n",
    "    units = 10,\n",
    "    activation = \"softmax\"\n",
    "))\n"
   ]
  },
  {
   "cell_type": "code",
   "execution_count": 14,
   "metadata": {},
   "outputs": [],
   "source": [
    "# Reshape data dimension\n",
    "X_train = x_train.reshape(60000, 28, 28, 1)\n",
    "X_test = x_test.reshape(10000, 28, 28, 1)"
   ]
  },
  {
   "cell_type": "code",
   "execution_count": 15,
   "metadata": {},
   "outputs": [],
   "source": [
    "# Compile the model\n",
    "model.compile(\n",
    "    optimizer = \"adam\",\n",
    "    loss = \"categorical_crossentropy\",\n",
    "    metrics = [\"accuracy\"]\n",
    ")"
   ]
  },
  {
   "cell_type": "code",
   "execution_count": 16,
   "metadata": {},
   "outputs": [
    {
     "name": "stdout",
     "output_type": "stream",
     "text": [
      "Epoch 1/5\n",
      "469/469 [==============================] - 8s 8ms/step - loss: 0.2902 - accuracy: 0.9083\n",
      "Epoch 2/5\n",
      "469/469 [==============================] - 3s 7ms/step - loss: 0.0953 - accuracy: 0.9709\n",
      "Epoch 3/5\n",
      "469/469 [==============================] - 3s 7ms/step - loss: 0.0738 - accuracy: 0.9780\n",
      "Epoch 4/5\n",
      "469/469 [==============================] - 3s 7ms/step - loss: 0.0599 - accuracy: 0.9820\n",
      "Epoch 5/5\n",
      "469/469 [==============================] - 3s 7ms/step - loss: 0.0511 - accuracy: 0.9843\n"
     ]
    },
    {
     "data": {
      "text/plain": [
       "<keras.callbacks.History at 0x26535a7f310>"
      ]
     },
     "execution_count": 16,
     "metadata": {},
     "output_type": "execute_result"
    }
   ],
   "source": [
    "# Fit the model\n",
    "model.fit(\n",
    "    x = X_train,\n",
    "    y = y_train,\n",
    "    epochs = 5,\n",
    "    batch_size = 128\n",
    ")"
   ]
  },
  {
   "cell_type": "code",
   "execution_count": 17,
   "metadata": {},
   "outputs": [
    {
     "name": "stdout",
     "output_type": "stream",
     "text": [
      "The history saving thread hit an unexpected error (OperationalError('database or disk is full')).History will not be written to the database.\n",
      "313/313 [==============================] - 1s 3ms/step - loss: 0.0235 - accuracy: 0.9916\n",
      "Test loss: 0.023525545373558998\n",
      "Test accuracy: 0.991599977016449\n"
     ]
    }
   ],
   "source": [
    "# Evaluate CNN Model\n",
    "test_loss, test_acc = model.evaluate(x = X_test, y = y_test)\n",
    "print(f\"Test loss: {test_loss}\")\n",
    "print(f\"Test accuracy: {test_acc}\")"
   ]
  },
  {
   "cell_type": "code",
   "execution_count": 18,
   "metadata": {},
   "outputs": [],
   "source": [
    "# save the model\n",
    "model.save(\"final_CNN_model.h5\")"
   ]
  },
  {
   "cell_type": "code",
   "execution_count": 19,
   "metadata": {},
   "outputs": [
    {
     "name": "stdout",
     "output_type": "stream",
     "text": [
      "Model: \"sequential_1\"\n",
      "_________________________________________________________________\n",
      " Layer (type)                Output Shape              Param #   \n",
      "=================================================================\n",
      " conv2d (Conv2D)             (None, 28, 28, 32)        832       \n",
      "                                                                 \n",
      " max_pooling2d (MaxPooling2D  (None, 14, 14, 32)       0         \n",
      " )                                                               \n",
      "                                                                 \n",
      " conv2d_1 (Conv2D)           (None, 14, 14, 64)        18496     \n",
      "                                                                 \n",
      " max_pooling2d_1 (MaxPooling  (None, 7, 7, 64)         0         \n",
      " 2D)                                                             \n",
      "                                                                 \n",
      " dropout (Dropout)           (None, 7, 7, 64)          0         \n",
      "                                                                 \n",
      " flatten (Flatten)           (None, 3136)              0         \n",
      "                                                                 \n",
      " dense_4 (Dense)             (None, 128)               401536    \n",
      "                                                                 \n",
      " dropout_1 (Dropout)         (None, 128)               0         \n",
      "                                                                 \n",
      " dense_5 (Dense)             (None, 10)                1290      \n",
      "                                                                 \n",
      "=================================================================\n",
      "Total params: 422,154\n",
      "Trainable params: 422,154\n",
      "Non-trainable params: 0\n",
      "_________________________________________________________________\n"
     ]
    }
   ],
   "source": [
    "# Load model and predict\n",
    "from tensorflow.keras.models import load_model\n",
    "new_model = load_model(\"final_CNN_model.h5\")\n",
    "new_model.summary()"
   ]
  },
  {
   "cell_type": "code",
   "execution_count": 32,
   "metadata": {},
   "outputs": [],
   "source": [
    "# visualize prediction results\n",
    "def res_Visual(total_prediction):\n",
    "    final_opt_a = new_model.predict(X_test[0:total_prediction])\n",
    "    final_opt_a = final_opt_a.argmax(axis=-1)\n",
    "    fig, ax = plt.subplots(nrows=int(total_prediction/5), ncols=5)\n",
    "    ax = ax.flatten()\n",
    "    print(\"Prediction results of the first {} images: \".format(total_prediction))\n",
    "    for i in range(total_prediction):\n",
    "        print(final_opt_a[i], end = \",\")\n",
    "        if int((i + 1) % 5) == 0:\n",
    "            print(\"\\t\")\n",
    "\n",
    "        # visualize image display \n",
    "        img = X_test[i].reshape((28, 28))\n",
    "        plt.axis(\"off\")\n",
    "        ax[i].imshow(img, cmap = \"Greys\", interpolation = \"nearest\") # Visualization\n",
    "        ax[i].axis(\"off\")\n",
    "    print(\"first {} images in the test set: \".format(total_prediction))"
   ]
  },
  {
   "cell_type": "code",
   "execution_count": 33,
   "metadata": {},
   "outputs": [
    {
     "name": "stdout",
     "output_type": "stream",
     "text": [
      "1/1 [==============================] - 0s 20ms/step\n",
      "Prediction results of the first 20 images: \n",
      "7,2,1,0,4,\t\n",
      "1,4,9,5,9,\t\n",
      "0,6,9,0,1,\t\n",
      "5,9,7,8,4,\t\n",
      "first 20 images in the test set: \n"
     ]
    },
    {
     "data": {
      "image/png": "[encoded data removed]",
      "text/plain": [
       "<Figure size 640x480 with 20 Axes>"
      ]
     },
     "metadata": {},
     "output_type": "display_data"
    }
   ],
   "source": [
    "# call the procedur\n",
    "res_Visual(20)"
   ]
  }
 ],
 "metadata": {
  "kernelspec": {
   "display_name": "dolphin",
   "language": "python",
   "name": "python3"
  },
  "language_info": {
   "codemirror_mode": {
    "name": "ipython",
    "version": 3
   },
   "file_extension": ".py",
   "mimetype": "text/x-python",
   "name": "python",
   "nbconvert_exporter": "python",
   "pygments_lexer": "ipython3",
   "version": "3.8.13"
  },
  "orig_nbformat": 4
 },
 "nbformat": 4,
 "nbformat_minor": 2
}
